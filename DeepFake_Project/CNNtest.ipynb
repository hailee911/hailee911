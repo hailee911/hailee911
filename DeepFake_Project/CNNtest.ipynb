{
 "cells": [
  {
   "cell_type": "code",
   "execution_count": 7,
   "metadata": {},
   "outputs": [],
   "source": [
    "import matplotlib.pyplot as plt\n",
    "import numpy as np\n",
    "import pandas as pd\n",
    "import tensorflow as tf\n",
    "import cv2\n",
    "\n",
    "train_dir = '/Users/idayeong/Desktop/Dataset/Train'"
   ]
  },
  {
   "cell_type": "code",
   "execution_count": 8,
   "metadata": {},
   "outputs": [
    {
     "name": "stdout",
     "output_type": "stream",
     "text": [
      "Found 140002 files belonging to 2 classes.\n",
      "Train data count: 3150\n",
      "Validation data count: 350\n",
      "Test data count: 876\n",
      "Shape of the image after preprocessing: (None, 100, 100, 1)\n",
      "Shape of the image after preprocessing: (None, 100, 100, 1)\n",
      "Shape of the image after preprocessing: (None, 100, 100, 1)\n"
     ]
    }
   ],
   "source": [
    "# crop the center square of an image (100,100)\n",
    "def center_crop(image, label, crop_size=100): \n",
    "    height, width, _ = image.shape[1:] \n",
    "    crop_size = min(height, width, crop_size)\n",
    "    center_x = width // 2\n",
    "    center_y = height // 2\n",
    "    cropped_image = image[:, center_y - crop_size // 2:center_y + crop_size // 2,\n",
    "                     center_x - crop_size // 2:center_x + crop_size // 2, :]\n",
    "\n",
    "    return cropped_image, label\n",
    "\n",
    "# set image size\n",
    "IMG_SIZE = (100, 100)  # size reducing 256 to 100\n",
    "\n",
    "# image train dataset ; one-hot coding, batch size, image size\n",
    "train_data = tf.keras.preprocessing.image_dataset_from_directory(train_dir,\n",
    "                                                                 label_mode='categorical',\n",
    "                                                                 batch_size=32,\n",
    "                                                                 image_size=IMG_SIZE,\n",
    "                                                                 color_mode='grayscale')\n",
    "\n",
    "# apply the crop function\n",
    "train_data = train_data.map(lambda x, y: center_crop(x, y, crop_size=100))\n",
    "\n",
    "# split dataset for Train and Test\n",
    "train_size = int(0.8 * len(train_data))\n",
    "test_size = len(train_data) - train_size\n",
    "train_dataset = train_data.take(train_size)\n",
    "test_dataset = train_data.skip(train_size)\n",
    "\n",
    "# from Train dataset split dataset for Validation\n",
    "validation_size = int(0.1 * len(train_dataset))\n",
    "train_size = len(train_dataset) - validation_size\n",
    "train_dataset = train_dataset.take(train_size)\n",
    "validation_dataset = train_dataset.skip(train_size - validation_size)\n",
    "\n",
    "# print to determine the Size of Divided Datasets\n",
    "print(\"Train data count:\", len(train_dataset))\n",
    "print(\"Validation data count:\", len(validation_dataset))\n",
    "print(\"Test data count:\", len(test_dataset))"
   ]
  },
  {
   "cell_type": "code",
   "execution_count": 9,
   "metadata": {},
   "outputs": [
    {
     "name": "stdout",
     "output_type": "stream",
     "text": [
      "Model: \"sequential\"\n",
      "_________________________________________________________________\n",
      " Layer (type)                Output Shape              Param #   \n",
      "=================================================================\n",
      " conv2d (Conv2D)             (None, 98, 98, 32)        320       \n",
      "                                                                 \n",
      " max_pooling2d (MaxPooling2  (None, 49, 49, 32)        0         \n",
      " D)                                                              \n",
      "                                                                 \n",
      " conv2d_1 (Conv2D)           (None, 46, 46, 64)        32832     \n",
      "                                                                 \n",
      " max_pooling2d_1 (MaxPoolin  (None, 23, 23, 64)        0         \n",
      " g2D)                                                            \n",
      "                                                                 \n",
      " flatten (Flatten)           (None, 33856)             0         \n",
      "                                                                 \n",
      " dense (Dense)               (None, 64)                2166848   \n",
      "                                                                 \n",
      " dropout (Dropout)           (None, 64)                0         \n",
      "                                                                 \n",
      " dense_1 (Dense)             (None, 2)                 130       \n",
      "                                                                 \n",
      "=================================================================\n",
      "Total params: 2200130 (8.39 MB)\n",
      "Trainable params: 2200130 (8.39 MB)\n",
      "Non-trainable params: 0 (0.00 Byte)\n",
      "_________________________________________________________________\n",
      "Epoch 1/5\n",
      "3150/3150 [==============================] - 1177s 373ms/step - loss: 0.5605 - accuracy: 0.7220 - precision: 0.7220 - recall: 0.7220 - f1_score: 0.7215 - logcosh: 0.0829 - val_loss: 0.3470 - val_accuracy: 0.8465 - val_precision: 0.8465 - val_recall: 0.8465 - val_f1_score: 0.8461 - val_logcosh: 0.0508\n",
      "Epoch 2/5\n",
      "3150/3150 [==============================] - 1042s 331ms/step - loss: 0.3431 - accuracy: 0.8441 - precision: 0.8441 - recall: 0.8441 - f1_score: 0.8441 - logcosh: 0.0511 - val_loss: 0.2080 - val_accuracy: 0.9176 - val_precision: 0.9176 - val_recall: 0.9176 - val_f1_score: 0.9175 - val_logcosh: 0.0290\n",
      "Epoch 3/5\n",
      "3150/3150 [==============================] - 1024s 325ms/step - loss: 0.2386 - accuracy: 0.8999 - precision: 0.8999 - recall: 0.8999 - f1_score: 0.8999 - logcosh: 0.0340 - val_loss: 0.1416 - val_accuracy: 0.9448 - val_precision: 0.9448 - val_recall: 0.9448 - val_f1_score: 0.9448 - val_logcosh: 0.0196\n",
      "Epoch 4/5\n",
      "3150/3150 [==============================] - 1040s 330ms/step - loss: 0.1812 - accuracy: 0.9236 - precision: 0.9236 - recall: 0.9236 - f1_score: 0.9236 - logcosh: 0.0255 - val_loss: 0.1206 - val_accuracy: 0.9487 - val_precision: 0.9487 - val_recall: 0.9487 - val_f1_score: 0.9486 - val_logcosh: 0.0172\n",
      "Epoch 5/5\n",
      "3150/3150 [==============================] - 1014s 322ms/step - loss: 0.1438 - accuracy: 0.9389 - precision: 0.9389 - recall: 0.9389 - f1_score: 0.9389 - logcosh: 0.0202 - val_loss: 0.0784 - val_accuracy: 0.9661 - val_precision: 0.9661 - val_recall: 0.9661 - val_f1_score: 0.9661 - val_logcosh: 0.0110\n",
      "876/876 [==============================] - 117s 91ms/step - loss: 0.1724 - accuracy: 0.9321 - precision: 0.9321 - recall: 0.9321 - f1_score: 0.9321 - logcosh: 0.0228\n",
      "Test Accuracy: 0.9320762753486633\n",
      "Test Precision: 0.9320762753486633\n",
      "Test Recall: 0.9320762753486633\n",
      "Test F1-Score: [0.9317595 0.9323901]\n",
      "Test Logarithmic Loss: 0.022800147533416748\n"
     ]
    }
   ],
   "source": [
    "from tensorflow.keras import layers, models\n",
    "from tensorflow.keras.layers import Dropout\n",
    "from tensorflow.keras.optimizers import Adam\n",
    "\n",
    "# Define model\n",
    "model = models.Sequential()\n",
    "\n",
    "# Convolutional Layer 1\n",
    "model.add(layers.Conv2D(32, (3, 3), activation='relu', input_shape=(100, 100, 1)))\n",
    "model.add(layers.MaxPooling2D((2, 2)))\n",
    "\n",
    "# Convolutional Layer 2\n",
    "model.add(layers.Conv2D(64, (4, 4), activation='relu'))\n",
    "model.add(layers.MaxPooling2D((2, 2)))\n",
    "\n",
    "# Flatten Layer\n",
    "model.add(layers.Flatten())\n",
    "\n",
    "# Fully Connected Layer\n",
    "model.add(layers.Dense(64, activation='relu'))\n",
    "model.add(Dropout(0.2))\n",
    "\n",
    "# Output Layer\n",
    "model.add(layers.Dense(2, activation='softmax')) \n",
    "\n",
    "\n",
    "optimizer = Adam(learning_rate=0.0001)\n",
    "\n",
    "# Deliver the optimizer set in the optimizer parameter when compiling the model\n",
    "model.compile(optimizer=optimizer,\n",
    "              loss='categorical_crossentropy',\n",
    "              metrics=['accuracy', tf.keras.metrics.Precision(), tf.keras.metrics.Recall(), \n",
    "                       tf.keras.metrics.F1Score(average=None, name='f1_score'),\n",
    "                       tf.keras.metrics.LogCoshError()])\n",
    "\n",
    "model.summary()\n",
    "\n",
    "try:\n",
    "    # Train the model\n",
    "    model.fit(train_dataset, epochs=5, validation_data=validation_dataset)\n",
    "except Exception as e:\n",
    "    print(\"An error occurred during training:\")\n",
    "    print(str(e))\n",
    "\n",
    "\n",
    "# Model evaluation\n",
    "test_loss, test_accuracy, test_precision, test_recall, test_f1_score, test_logloss = model.evaluate(test_dataset)\n",
    "\n",
    "print(f'Test Accuracy: {test_accuracy}')\n",
    "print(f'Test Precision: {test_precision}')\n",
    "print(f'Test Recall: {test_recall}')\n",
    "print(f'Test F1-Score: {test_f1_score}')\n",
    "print(f'Test Logarithmic Loss: {test_logloss}')"
   ]
  },
  {
   "cell_type": "code",
   "execution_count": 82,
   "metadata": {},
   "outputs": [
    {
     "name": "stdout",
     "output_type": "stream",
     "text": [
      "Found 10905 images belonging to 2 classes.\n",
      "Test dataset classes: {'Fake': 0, 'Real': 1}\n"
     ]
    }
   ],
   "source": [
    "from tensorflow.keras.preprocessing.image import ImageDataGenerator\n",
    "\n",
    "# Path for test directory\n",
    "test_dir = '/Users/idayeong/Desktop/Dataset/Test'\n",
    "\n",
    "# Function to crop the center square of an image\n",
    "def center_crop(image):\n",
    "    crop_size = 100  # Assuming we want a 100x100 crop\n",
    "    height, width, _ = image.shape\n",
    "    startx = width // 2 - (crop_size // 2)\n",
    "    starty = height // 2 - (crop_size // 2)\n",
    "    return image[starty:starty + crop_size, startx:startx + crop_size]\n",
    "\n",
    "# Create an ImageDataGenerator for preprocessing the images\n",
    "# Including the central crop in the preprocessing_function\n",
    "test_datagen = ImageDataGenerator(\n",
    "    rescale=1./255,\n",
    "    preprocessing_function=center_crop\n",
    ") \n",
    "\n",
    "test_dataset = test_datagen.flow_from_directory(\n",
    "    test_dir,  \n",
    "    target_size=(100, 100),  # Size is larger than crop to ensure the crop is possible\n",
    "    color_mode='grayscale',  \n",
    "    batch_size=32, \n",
    "    class_mode='categorical',  \n",
    "    shuffle=False\n",
    ") \n",
    "\n",
    "# Output the classes found in the test dataset directory\n",
    "print(\"Test dataset classes:\", test_dataset.class_indices)\n"
   ]
  },
  {
   "cell_type": "code",
   "execution_count": 93,
   "metadata": {},
   "outputs": [
    {
     "name": "stdout",
     "output_type": "stream",
     "text": [
      "1/1 [==============================] - 0s 34ms/step\n",
      "Predicted Label: 0 (Confidence: 54.45%)\n",
      "True Label: 0\n"
     ]
    },
    {
     "data": {
      "image/png": "[encoded data removed]",
      "text/plain": [
       "<Figure size 640x480 with 1 Axes>"
      ]
     },
     "metadata": {},
     "output_type": "display_data"
    }
   ],
   "source": [
    "# Select a random image from the test dataset\n",
    "batch = next(iter(test_dataset))  # Retrieve the first batch\n",
    "images, labels = batch[0], batch[1]  # Separate images and labels\n",
    "\n",
    "# Choose a random image\n",
    "idx = np.random.randint(0, images.shape[0])\n",
    "random_image = images[idx]\n",
    "true_label = labels[idx]\n",
    "\n",
    "# Predict the class using the model\n",
    "prediction = model.predict(np.expand_dims(random_image, axis=0))\n",
    "\n",
    "# The predicted label is the one with the highest probability\n",
    "predicted_label = np.argmax(prediction, axis=1)[0]\n",
    "\n",
    "# probability of prediction\n",
    "predicted_probability = np.max(prediction) * 100 \n",
    "\n",
    "\n",
    "# The true label is the one that corresponds to the actual image\n",
    "true_label_idx = np.argmax(true_label)\n",
    "\n",
    "\n",
    "# Output the results and visualize the image\n",
    "print(f'Predicted Label: {predicted_label} (Confidence: {predicted_probability:.2f}%)')\n",
    "print(f'True Label: {true_label_idx}')\n",
    "plt.imshow(np.squeeze(random_image), cmap='gray') \n",
    "plt.title(f'Predicted: {predicted_label} (Confidence: {predicted_probability:.2f}%), True: {true_label_idx}')\n",
    "plt.show()"
   ]
  }
 ],
 "metadata": {
  "kernelspec": {
   "display_name": "Python 3",
   "language": "python",
   "name": "python3"
  },
  "language_info": {
   "codemirror_mode": {
    "name": "ipython",
    "version": 3
   },
   "file_extension": ".py",
   "mimetype": "text/x-python",
   "name": "python",
   "nbconvert_exporter": "python",
   "pygments_lexer": "ipython3",
   "version": "3.11.7"
  }
 },
 "nbformat": 4,
 "nbformat_minor": 2
}
